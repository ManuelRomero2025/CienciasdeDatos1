{
  "nbformat": 4,
  "nbformat_minor": 0,
  "metadata": {
    "colab": {
      "provenance": [],
      "authorship_tag": "ABX9TyMjJHQAZGrxoE14tjwGchva",
      "include_colab_link": true
    },
    "kernelspec": {
      "name": "python3",
      "display_name": "Python 3"
    },
    "language_info": {
      "name": "python"
    }
  },
  "cells": [
    {
      "cell_type": "markdown",
      "metadata": {
        "id": "view-in-github",
        "colab_type": "text"
      },
      "source": [
        "<a href=\"https://colab.research.google.com/github/ManuelRomero2025/CienciasdeDatos1/blob/main/datos_simulada_con_errores.ipynb\" target=\"_parent\"><img src=\"https://colab.research.google.com/assets/colab-badge.svg\" alt=\"Open In Colab\"/></a>"
      ]
    },
    {
      "cell_type": "markdown",
      "source": [
        "# **Generar base de datos simulada con errores**\n",
        "\n"
      ],
      "metadata": {
        "id": "LLwHh7aSgf8U"
      }
    },
    {
      "cell_type": "code",
      "execution_count": 9,
      "metadata": {
        "colab": {
          "base_uri": "https://localhost:8080/"
        },
        "id": "yeFT-4YMgPWY",
        "outputId": "40549817-7d48-47d3-f61d-62a9b1070372"
      },
      "outputs": [
        {
          "output_type": "stream",
          "name": "stdout",
          "text": [
            "   id  nombre edad ingresos_mensuales        fecha_ingreso\n",
            "0   1   María   45            2716.76  2022-01-01 00:00:00\n",
            "1   2    Juan   24             2532.9  2022-01-08 00:00:00\n",
            "2   3  Carlos   26             750.62  2022-01-15 00:00:00\n",
            "3   4    Juan   25            2740.16  2022-01-22 00:00:00\n",
            "4   5    Juan   29            3079.36  2022-01-29 00:00:00\n",
            "5   6    Luis   -3            2615.89  2022-02-05 00:00:00\n",
            "6   7  Carlos   50            1892.84  2022-02-12 00:00:00\n",
            "7   8  Carlos   40             1655.4  2022-02-19 00:00:00\n",
            "8   9  Carlos   41            2363.92  2022-02-26 00:00:00\n",
            "9  10    Juan   54            1690.47  2022-03-05 00:00:00\n",
            "   id  nombre edad ingresos_mensuales        fecha_ingreso\n",
            "0   1   María   45            2716.76  2022-01-01 00:00:00\n",
            "1   2    Juan   24             2532.9  2022-01-08 00:00:00\n",
            "2   3  Carlos   26             750.62  2022-01-15 00:00:00\n",
            "3   4    Juan   25            2740.16  2022-01-22 00:00:00\n",
            "4   5    Juan   29            3079.36  2022-01-29 00:00:00\n",
            "<class 'pandas.core.frame.DataFrame'>\n",
            "RangeIndex: 100 entries, 0 to 99\n",
            "Data columns (total 5 columns):\n",
            " #   Column              Non-Null Count  Dtype \n",
            "---  ------              --------------  ----- \n",
            " 0   id                  100 non-null    int64 \n",
            " 1   nombre              100 non-null    object\n",
            " 2   edad                100 non-null    object\n",
            " 3   ingresos_mensuales  99 non-null     object\n",
            " 4   fecha_ingreso       100 non-null    object\n",
            "dtypes: int64(1), object(4)\n",
            "memory usage: 4.0+ KB\n",
            "None\n"
          ]
        },
        {
          "output_type": "stream",
          "name": "stderr",
          "text": [
            "<ipython-input-9-6d49c167cf0c>:23: FutureWarning: Setting an item of incompatible dtype is deprecated and will raise an error in a future version of pandas. Value '2.300,50' has dtype incompatible with float64, please explicitly cast to a compatible dtype first.\n",
            "  df.loc[25, 'ingresos_mensuales'] = '2.300,50'      # Separador decimal europeo\n",
            "<ipython-input-9-6d49c167cf0c>:25: FutureWarning: Setting an item of incompatible dtype is deprecated and will raise an error in a future version of pandas. Value '15 enero 2022' has dtype incompatible with datetime64[ns], please explicitly cast to a compatible dtype first.\n",
            "  df.loc[35, 'fecha_ingreso'] = '15 enero 2022'      # Fecha en formato alternativo\n",
            "<ipython-input-9-6d49c167cf0c>:28: FutureWarning: Setting an item of incompatible dtype is deprecated and will raise an error in a future version of pandas. Value 'cuarenta' has dtype incompatible with int64, please explicitly cast to a compatible dtype first.\n",
            "  df.loc[50, 'edad'] = 'cuarenta'                    # Edad como texto\n"
          ]
        }
      ],
      "source": [
        "import pandas as pd\n",
        "import numpy as np\n",
        "\n",
        "np.random.seed(42)  # Para reproducibilidad\n",
        "\n",
        "# Simular datos correctos\n",
        "n = 100\n",
        "data = {\n",
        "    'id': range(1, n+1),\n",
        "    'nombre': np.random.choice(['Ana', 'Luis', 'Carlos', 'María', 'Juan'], size=n),\n",
        "    'edad': np.random.randint(18, 65, size=n),\n",
        "    'ingresos_mensuales': np.random.normal(2000, 500, size=n).round(2),\n",
        "    'fecha_ingreso': pd.date_range(start='2022-01-01', periods=n, freq='7D')\n",
        "}\n",
        "\n",
        "df = pd.DataFrame(data)\n",
        "\n",
        "# 🔸 Introducir datos inconsistentes\n",
        "df.loc[5, 'edad'] = -3                             # Edad negativa (inválida)\n",
        "df.loc[10, 'nombre'] = '  ANA '                    # Nombre con espacios\n",
        "df.loc[15, 'nombre'] = 'juan'                      # Nombre en minúscula\n",
        "df.loc[20, 'nombre'] = 'CARLOS'                    # Nombre en mayúsculas\n",
        "df.loc[25, 'ingresos_mensuales'] = '2.300,50'      # Separador decimal europeo\n",
        "df.loc[30, 'ingresos_mensuales'] = '1900.80'       # Número como string\n",
        "df.loc[35, 'fecha_ingreso'] = '15 enero 2022'      # Fecha en formato alternativo\n",
        "df.loc[40, 'fecha_ingreso'] = '2022/31/12'         # Fecha mal escrita\n",
        "df.loc[45, 'edad'] = 130                           # Edad muy alta (fuera de rango)\n",
        "df.loc[50, 'edad'] = 'cuarenta'                    # Edad como texto\n",
        "df.loc[55, 'ingresos_mensuales'] = 'Dos mil'       # Ingreso como texto\n",
        "df.loc[60, 'ingresos_mensuales'] = np.nan          # Valor faltante\n",
        "\n",
        "# Vista rápida\n",
        "print(df.head(100))\n",
        "\n",
        "print(df.head())\n",
        "print(df.info())\n"
      ]
    },
    {
      "cell_type": "markdown",
      "source": [
        "# Limpieza de la columna nombre"
      ],
      "metadata": {
        "id": "F8ZKLaCog-Vy"
      }
    },
    {
      "cell_type": "code",
      "source": [
        "# Eliminar espacios y estandarizar en mayúscula inicial (title case)\n",
        "df['nombre'] = df['nombre'].str.strip().str.lower().str.title()\n"
      ],
      "metadata": {
        "id": "v_7ZcNPdg7hK"
      },
      "execution_count": 5,
      "outputs": []
    },
    {
      "cell_type": "markdown",
      "source": [
        "# Limpieza de la columna edad"
      ],
      "metadata": {
        "id": "8KnQISxJhEav"
      }
    },
    {
      "cell_type": "code",
      "source": [
        "# Convertir a numérico (coerce convierte errores a NaN)\n",
        "df['edad'] = pd.to_numeric(df['edad'], errors='coerce')\n",
        "\n",
        "# Sustituir edades fuera del rango [18, 100] por NaN\n",
        "df.loc[(df['edad'] < 18) | (df['edad'] > 100), 'edad'] = np.nan\n",
        "\n",
        "# Imputar con la mediana de las edades válidas\n",
        "mediana_edad = df['edad'].median()\n",
        "df['edad'] = df['edad'].fillna(mediana_edad)\n",
        "\n"
      ],
      "metadata": {
        "id": "hTdDWC_jhFpm"
      },
      "execution_count": 11,
      "outputs": []
    },
    {
      "cell_type": "markdown",
      "source": [
        "# Limpieza de la columna ingresos_mensuales"
      ],
      "metadata": {
        "id": "QkjKxT5Ghbmj"
      }
    },
    {
      "cell_type": "code",
      "source": [
        "# Convertir todo a string, reemplazar coma decimal y convertir a float\n",
        "df['ingresos_mensuales'] = df['ingresos_mensuales'].astype(str).str.replace(',', '.', regex=False)\n",
        "\n",
        "# Convertir a numérico (errores serán NaN)\n",
        "df['ingresos_mensuales'] = pd.to_numeric(df['ingresos_mensuales'], errors='coerce')\n",
        "\n",
        "# Eliminar valores negativos o extremadamente bajos (si los hay)\n",
        "df.loc[df['ingresos_mensuales'] < 0, 'ingresos_mensuales'] = np.nan\n",
        "\n",
        "# Imputar ingresos faltantes con la media\n",
        "media_ingresos = df['ingresos_mensuales'].mean()\n",
        "df['ingresos_mensuales'] = df['ingresos_mensuales'].fillna(media_ingresos)\n",
        "\n"
      ],
      "metadata": {
        "id": "RixdSMNNhcpY"
      },
      "execution_count": 12,
      "outputs": []
    },
    {
      "cell_type": "code",
      "source": [
        "# Convertir fechas con errores a NaT (fecha inválida)\n",
        "df['fecha_ingreso'] = pd.to_datetime(df['fecha_ingreso'], errors='coerce')\n",
        "\n",
        "# Reemplazar fechas inválidas con la mediana de las fechas válidas\n",
        "mediana_fecha = df['fecha_ingreso'].dropna().median()\n",
        "df['fecha_ingreso'] = df['fecha_ingreso'].fillna(mediana_fecha)\n"
      ],
      "metadata": {
        "id": "MEH4LoNEiGNq"
      },
      "execution_count": 13,
      "outputs": []
    },
    {
      "cell_type": "code",
      "source": [
        "\n",
        "print(df.info())\n",
        "print(df.head())\n"
      ],
      "metadata": {
        "colab": {
          "base_uri": "https://localhost:8080/"
        },
        "id": "zSnTas6JiKe7",
        "outputId": "b0da236f-9bef-461e-ca27-e8051d205b51"
      },
      "execution_count": 19,
      "outputs": [
        {
          "output_type": "stream",
          "name": "stdout",
          "text": [
            "<class 'pandas.core.frame.DataFrame'>\n",
            "RangeIndex: 100 entries, 0 to 99\n",
            "Data columns (total 5 columns):\n",
            " #   Column              Non-Null Count  Dtype         \n",
            "---  ------              --------------  -----         \n",
            " 0   id                  100 non-null    int64         \n",
            " 1   nombre              100 non-null    object        \n",
            " 2   edad                100 non-null    float64       \n",
            " 3   ingresos_mensuales  100 non-null    float64       \n",
            " 4   fecha_ingreso       100 non-null    datetime64[ns]\n",
            "dtypes: datetime64[ns](1), float64(2), int64(1), object(1)\n",
            "memory usage: 4.0+ KB\n",
            "None\n",
            "   id  nombre  edad  ingresos_mensuales fecha_ingreso\n",
            "0   1   María  45.0             2716.76    2022-01-01\n",
            "1   2    Juan  24.0             2532.90    2022-01-08\n",
            "2   3  Carlos  26.0              750.62    2022-01-15\n",
            "3   4    Juan  25.0             2740.16    2022-01-22\n",
            "4   5    Juan  29.0             3079.36    2022-01-29\n"
          ]
        }
      ]
    },
    {
      "cell_type": "code",
      "source": [
        "print(df.head(100))"
      ],
      "metadata": {
        "colab": {
          "base_uri": "https://localhost:8080/"
        },
        "id": "Pz5z8VFAiVeB",
        "outputId": "26d2ae6e-4e38-4bc4-a87e-78649227d425"
      },
      "execution_count": 18,
      "outputs": [
        {
          "output_type": "stream",
          "name": "stdout",
          "text": [
            "     id  nombre  edad  ingresos_mensuales fecha_ingreso\n",
            "0     1   María  45.0             2716.76    2022-01-01\n",
            "1     2    Juan  24.0             2532.90    2022-01-08\n",
            "2     3  Carlos  26.0              750.62    2022-01-15\n",
            "3     4    Juan  25.0             2740.16    2022-01-22\n",
            "4     5    Juan  29.0             3079.36    2022-01-29\n",
            "..  ...     ...   ...                 ...           ...\n",
            "95   96  Carlos  45.0             1486.47    2023-10-28\n",
            "96   97    Juan  40.0             2441.42    2023-11-04\n",
            "97   98    Luis  54.0             1775.35    2023-11-11\n",
            "98   99    Luis  49.0             2209.32    2023-11-18\n",
            "99  100     Ana  50.0             1635.91    2023-11-25\n",
            "\n",
            "[100 rows x 5 columns]\n"
          ]
        }
      ]
    },
    {
      "cell_type": "markdown",
      "source": [
        "# **Ejemplo 2**"
      ],
      "metadata": {
        "id": "vMe3FpPbjQfn"
      }
    },
    {
      "cell_type": "code",
      "source": [
        "import pandas as pd\n",
        "import numpy as np\n",
        "\n",
        "np.random.seed(123)\n",
        "\n",
        "n = 100\n",
        "df = pd.DataFrame({\n",
        "    'ID': range(1, n + 1),\n",
        "    'Nombre': np.random.choice(['ana', ' Ana ', 'Luis', 'LUIS', 'María', 'maria'], n),\n",
        "    'Edad': np.random.choice([25, 35, 60, 150, -5, 'treinta', np.nan], n),\n",
        "    'Ingreso_Mensual': np.random.choice(['2000.50', '3.000,75', '-1500', 'Dos mil', np.nan, '2200.00'], n),\n",
        "    'Genero': np.random.choice(['M', 'F', 'Masculino', 'Femenino', 'mujer', 'hombre'], n),\n",
        "    'Fecha_Registro': np.random.choice(['2021-05-01', '01/06/2021', 'junio 2021', '2021/30/12', '15-07-2021', np.nan], n)\n",
        "})\n",
        "\n",
        "# Incluir duplicados\n",
        "df = pd.concat([df, df.iloc[[5, 10]]], ignore_index=True)\n",
        "\n",
        "print(df.head(100))"
      ],
      "metadata": {
        "colab": {
          "base_uri": "https://localhost:8080/"
        },
        "id": "GhocF_H2jSjx",
        "outputId": "c2ce4851-4aab-4301-db5c-caf4ac51fb43"
      },
      "execution_count": 21,
      "outputs": [
        {
          "output_type": "stream",
          "name": "stdout",
          "text": [
            "     ID Nombre Edad Ingreso_Mensual     Genero Fecha_Registro\n",
            "0     1  maria   35        3.000,75     hombre            nan\n",
            "1     2   Luis  nan        3.000,75          M     2021-05-01\n",
            "2     3  María   -5         Dos mil          F     2021-05-01\n",
            "3     4   Luis  nan         Dos mil  Masculino     2021/30/12\n",
            "4     5   Ana   150           -1500  Masculino     01/06/2021\n",
            "..  ...    ...  ...             ...        ...            ...\n",
            "95   96   LUIS   35             nan     hombre     2021/30/12\n",
            "96   97   LUIS  150         Dos mil   Femenino     junio 2021\n",
            "97   98    ana   60           -1500      mujer     15-07-2021\n",
            "98   99   Ana   150         2200.00          M     2021/30/12\n",
            "99  100   LUIS  nan             nan     hombre     2021/30/12\n",
            "\n",
            "[100 rows x 6 columns]\n"
          ]
        }
      ]
    },
    {
      "cell_type": "code",
      "source": [
        "# =========================\n",
        "# 1. Limpieza de columnas tipo texto\n",
        "# =========================\n",
        "df['Nombre'] = df['Nombre'].astype(str).str.strip().str.lower().str.title()\n",
        "\n",
        "# =========================\n",
        "# 2. Normalizar columna 'Genero'\n",
        "# =========================\n",
        "df['Genero'] = df['Genero'].replace({\n",
        "    'M': 'Masculino',\n",
        "    'F': 'Femenino',\n",
        "    'hombre': 'Masculino',\n",
        "    'mujer': 'Femenino'\n",
        "}).str.title()\n",
        "\n",
        "# =========================\n",
        "# 3. Limpieza de la columna Edad\n",
        "# =========================\n",
        "df['Edad'] = pd.to_numeric(df['Edad'], errors='coerce')\n",
        "df.loc[(df['Edad'] < 18) | (df['Edad'] > 100), 'Edad'] = np.nan\n",
        "df['Edad'] = df['Edad'].fillna(df['Edad'].median())\n",
        "\n",
        "# =========================\n",
        "# 4. Limpieza de Ingreso_Mensual\n",
        "# =========================\n",
        "df['Ingreso_Mensual'] = df['Ingreso_Mensual'].astype(str).str.replace(',', '.')\n",
        "df['Ingreso_Mensual'] = pd.to_numeric(df['Ingreso_Mensual'], errors='coerce')\n",
        "df.loc[df['Ingreso_Mensual'] < 0, 'Ingreso_Mensual'] = np.nan\n",
        "df['Ingreso_Mensual'] = df['Ingreso_Mensual'].fillna(df['Ingreso_Mensual'].mean())\n",
        "\n",
        "# =========================\n",
        "# 5. Conversión y corrección de fechas\n",
        "# =========================\n",
        "df['Fecha_Registro'] = pd.to_datetime(df['Fecha_Registro'], errors='coerce')\n",
        "fecha_mediana = df['Fecha_Registro'].dropna().median()\n",
        "df['Fecha_Registro'] = df['Fecha_Registro'].fillna(fecha_mediana)\n",
        "\n",
        "# =========================\n",
        "# 6. Eliminación de duplicados\n",
        "# =========================\n",
        "df = df.drop_duplicates()\n",
        "\n",
        "# =========================\n",
        "# 7. Validación y resumen\n",
        "# =========================\n",
        "print(\"\\n✅ Información final del DataFrame limpio:\")\n",
        "print(df.info())\n",
        "print(df.describe(include='all'))\n"
      ],
      "metadata": {
        "colab": {
          "base_uri": "https://localhost:8080/"
        },
        "id": "Qcgdk8nwjev7",
        "outputId": "ad5bca5c-759b-4988-d955-a5968a9703b5"
      },
      "execution_count": 22,
      "outputs": [
        {
          "output_type": "stream",
          "name": "stdout",
          "text": [
            "\n",
            "✅ Información final del DataFrame limpio:\n",
            "<class 'pandas.core.frame.DataFrame'>\n",
            "Index: 100 entries, 0 to 99\n",
            "Data columns (total 6 columns):\n",
            " #   Column           Non-Null Count  Dtype         \n",
            "---  ------           --------------  -----         \n",
            " 0   ID               100 non-null    int64         \n",
            " 1   Nombre           100 non-null    object        \n",
            " 2   Edad             100 non-null    float64       \n",
            " 3   Ingreso_Mensual  100 non-null    float64       \n",
            " 4   Genero           100 non-null    object        \n",
            " 5   Fecha_Registro   100 non-null    datetime64[ns]\n",
            "dtypes: datetime64[ns](1), float64(2), int64(1), object(2)\n",
            "memory usage: 5.5+ KB\n",
            "None\n",
            "                ID Nombre        Edad  Ingreso_Mensual     Genero  \\\n",
            "count   100.000000    100  100.000000       100.000000        100   \n",
            "unique         NaN      4         NaN              NaN          2   \n",
            "top            NaN   Luis         NaN              NaN  Masculino   \n",
            "freq           NaN     39         NaN              NaN         58   \n",
            "mean     50.500000    NaN   35.950000      2102.502419        NaN   \n",
            "min       1.000000    NaN   25.000000      2000.500000        NaN   \n",
            "25%      25.750000    NaN   35.000000      2103.467742        NaN   \n",
            "50%      50.500000    NaN   35.000000      2103.467742        NaN   \n",
            "75%      75.250000    NaN   35.000000      2103.467742        NaN   \n",
            "max     100.000000    NaN   60.000000      2200.000000        NaN   \n",
            "std      29.011492    NaN    8.308904        54.930563        NaN   \n",
            "\n",
            "             Fecha_Registro  \n",
            "count                   100  \n",
            "unique                  NaN  \n",
            "top                     NaN  \n",
            "freq                    NaN  \n",
            "mean    2021-05-01 00:00:00  \n",
            "min     2021-05-01 00:00:00  \n",
            "25%     2021-05-01 00:00:00  \n",
            "50%     2021-05-01 00:00:00  \n",
            "75%     2021-05-01 00:00:00  \n",
            "max     2021-05-01 00:00:00  \n",
            "std                     NaN  \n"
          ]
        }
      ]
    },
    {
      "cell_type": "code",
      "source": [
        "print(df.head(100))"
      ],
      "metadata": {
        "colab": {
          "base_uri": "https://localhost:8080/"
        },
        "id": "qzcwFpIfk1i3",
        "outputId": "2b11d8c7-b9e9-44fd-bf86-f0eaf1ac47e7"
      },
      "execution_count": 23,
      "outputs": [
        {
          "output_type": "stream",
          "name": "stdout",
          "text": [
            "     ID Nombre  Edad  Ingreso_Mensual     Genero Fecha_Registro\n",
            "0     1  Maria  35.0      2103.467742  Masculino     2021-05-01\n",
            "1     2   Luis  35.0      2103.467742  Masculino     2021-05-01\n",
            "2     3  María  35.0      2103.467742   Femenino     2021-05-01\n",
            "3     4   Luis  35.0      2103.467742  Masculino     2021-05-01\n",
            "4     5    Ana  35.0      2103.467742  Masculino     2021-05-01\n",
            "..  ...    ...   ...              ...        ...            ...\n",
            "95   96   Luis  35.0      2103.467742  Masculino     2021-05-01\n",
            "96   97   Luis  35.0      2103.467742   Femenino     2021-05-01\n",
            "97   98    Ana  60.0      2103.467742   Femenino     2021-05-01\n",
            "98   99    Ana  35.0      2200.000000  Masculino     2021-05-01\n",
            "99  100   Luis  35.0      2103.467742  Masculino     2021-05-01\n",
            "\n",
            "[100 rows x 6 columns]\n"
          ]
        }
      ]
    }
  ]
}